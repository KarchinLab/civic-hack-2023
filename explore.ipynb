{
 "cells": [
  {
   "cell_type": "code",
   "execution_count": null,
   "metadata": {},
   "outputs": [],
   "source": [
    "import csv\n",
    "import sys \n",
    "from civicpy import civic\n",
    "\n",
    "reader = csv.reader(sys.stdin)\n",
    "writer = csv.writer(sys.stdout)\n",
    "\n",
    "for row in reader:\n",
    "    chrom, start, ref, var, molecular_profile_id = row\n",
    "    print(dir(civic.get_molecular_profile_by_id(molecular_profile_id)))\n",
    "    \n",
    "    #  print(dir(civic.get_molecular_profile_by_id(molecular_profile_id).summary))\n"
   ]
  }
 ],
 "metadata": {
  "language_info": {
   "name": "python"
  },
  "orig_nbformat": 4
 },
 "nbformat": 4,
 "nbformat_minor": 2
}
